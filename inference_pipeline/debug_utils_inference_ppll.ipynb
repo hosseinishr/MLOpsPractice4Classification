{
 "cells": [
  {
   "cell_type": "code",
   "execution_count": 1,
   "id": "a7cc58b8-3435-4ec9-b96f-684bd2b4018e",
   "metadata": {},
   "outputs": [],
   "source": [
    "# ignore the warnings in the output\n",
    "import warnings\n",
    "warnings.filterwarnings(\"ignore\")"
   ]
  },
  {
   "cell_type": "code",
   "execution_count": 2,
   "id": "275fdaee-756f-4731-96b7-8be593cad458",
   "metadata": {},
   "outputs": [],
   "source": [
    "import mlflow\n",
    "import mlflow.sklearn\n",
    "import pandas as pd\n",
    "import os\n",
    "import sqlite3\n",
    "import logging\n",
    "from sqlite3 import Error\n",
    "from datetime import datetime\n",
    "from mapping.significant_categorical_level import *\n",
    "from mapping.city_tier_mapping import city_tier_mapping\n",
    "from constants import *\n",
    "from utils import *"
   ]
  },
  {
   "cell_type": "code",
   "execution_count": 3,
   "id": "660b8702-a976-4043-9767-af94273b21f1",
   "metadata": {},
   "outputs": [],
   "source": [
    "load_data_into_db()"
   ]
  },
  {
   "cell_type": "code",
   "execution_count": 4,
   "id": "3a2db04c-f64e-45f5-891a-60beadff5fde",
   "metadata": {},
   "outputs": [],
   "source": [
    "map_city_tier()"
   ]
  },
  {
   "cell_type": "code",
   "execution_count": 5,
   "id": "b3b3575c-bc2b-431a-a360-f205f279695c",
   "metadata": {},
   "outputs": [],
   "source": [
    "map_categorical_vars()"
   ]
  },
  {
   "cell_type": "code",
   "execution_count": 6,
   "id": "79b479b3-3a13-4b28-8e70-051820234cc8",
   "metadata": {},
   "outputs": [],
   "source": [
    "interactions_mapping()"
   ]
  },
  {
   "cell_type": "code",
   "execution_count": 7,
   "id": "3d51e16a-223f-428a-8896-f0021120ce8b",
   "metadata": {},
   "outputs": [],
   "source": [
    "encode_features()"
   ]
  },
  {
   "cell_type": "code",
   "execution_count": 8,
   "id": "b7d92576-1849-4c50-a9ed-20248be5566d",
   "metadata": {},
   "outputs": [
    {
     "name": "stdout",
     "output_type": "stream",
     "text": [
      "All the models input are present\n"
     ]
    }
   ],
   "source": [
    "input_features_check()"
   ]
  },
  {
   "cell_type": "code",
   "execution_count": 9,
   "id": "9190e5b2-2195-4771-bf5e-4bb3b56bf69b",
   "metadata": {},
   "outputs": [],
   "source": [
    "# to create a db for mlflow\n",
    "conn = sqlite3.connect(DB_PATH+DB_FILE_MLFLOW)"
   ]
  },
  {
   "cell_type": "code",
   "execution_count": 10,
   "id": "bd73ceb1-7e82-496e-9970-ff8e3fd5a41b",
   "metadata": {},
   "outputs": [],
   "source": [
    "get_models_prediction()"
   ]
  },
  {
   "cell_type": "code",
   "execution_count": 11,
   "id": "27ed7d53-df05-43aa-bda7-a0e9df6639f4",
   "metadata": {},
   "outputs": [],
   "source": [
    "prediction_ratio_check()"
   ]
  },
  {
   "cell_type": "code",
   "execution_count": null,
   "id": "be7385c3-5830-4127-914a-bd6e8eb35cd2",
   "metadata": {},
   "outputs": [],
   "source": []
  }
 ],
 "metadata": {
  "kernelspec": {
   "display_name": "Python 3 (ipykernel)",
   "language": "python",
   "name": "python3"
  },
  "language_info": {
   "codemirror_mode": {
    "name": "ipython",
    "version": 3
   },
   "file_extension": ".py",
   "mimetype": "text/x-python",
   "name": "python",
   "nbconvert_exporter": "python",
   "pygments_lexer": "ipython3",
   "version": "3.8.12"
  }
 },
 "nbformat": 4,
 "nbformat_minor": 5
}
