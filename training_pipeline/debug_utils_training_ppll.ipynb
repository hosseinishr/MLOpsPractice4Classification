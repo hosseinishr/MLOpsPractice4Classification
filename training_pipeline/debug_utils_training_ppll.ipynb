{
 "cells": [
  {
   "cell_type": "code",
   "execution_count": 1,
   "id": "0736abcd-9144-4294-9577-a7fe505d1fb4",
   "metadata": {},
   "outputs": [],
   "source": [
    "# ignore the warnings in the output\n",
    "import warnings\n",
    "warnings.filterwarnings(\"ignore\")"
   ]
  },
  {
   "cell_type": "code",
   "execution_count": 2,
   "id": "7bbc374a-23af-4e90-adf0-13d39120845f",
   "metadata": {},
   "outputs": [],
   "source": [
    "from utils import *\n",
    "from constants import *\n",
    "import pandas as pd\n",
    "import sqlite3\n",
    "from sqlite3 import Error"
   ]
  },
  {
   "cell_type": "code",
   "execution_count": 3,
   "id": "59655752-f98f-4013-aa61-d24b938a9e3c",
   "metadata": {},
   "outputs": [],
   "source": [
    "conn_mlflow = sqlite3.connect(DB_PATH+DB_FILE_MLFLOW)"
   ]
  },
  {
   "cell_type": "code",
   "execution_count": 4,
   "id": "7affeac4-8fd4-4c71-9964-7d5067ff77a2",
   "metadata": {},
   "outputs": [],
   "source": [
    "encode_features()"
   ]
  },
  {
   "cell_type": "code",
   "execution_count": 5,
   "id": "3b5d69cd-7665-427e-a064-2026e6a832b1",
   "metadata": {},
   "outputs": [
    {
     "name": "stderr",
     "output_type": "stream",
     "text": [
      "Registered model 'LightGBM' already exists. Creating a new version of this model...\n",
      "2023/03/19 17:00:45 INFO mlflow.tracking._model_registry.client: Waiting up to 300 seconds for model version to finish creation.                     Model name: LightGBM, version 4\n",
      "Created version '4' of model 'LightGBM'.\n"
     ]
    }
   ],
   "source": [
    "get_trained_model()"
   ]
  },
  {
   "cell_type": "code",
   "execution_count": null,
   "id": "0698ab79-6b4a-45ab-abf7-d3b271a400cf",
   "metadata": {},
   "outputs": [],
   "source": []
  },
  {
   "cell_type": "code",
   "execution_count": null,
   "id": "770e952d-b44e-4204-821b-e2e9e9db6afb",
   "metadata": {},
   "outputs": [],
   "source": []
  },
  {
   "cell_type": "code",
   "execution_count": null,
   "id": "588b8488-e4d3-4cc8-b0f7-cd9c0ab90d63",
   "metadata": {},
   "outputs": [],
   "source": []
  },
  {
   "cell_type": "code",
   "execution_count": null,
   "id": "a2c9577d-ecfc-4909-8a19-6cb6459b5830",
   "metadata": {},
   "outputs": [],
   "source": []
  },
  {
   "cell_type": "code",
   "execution_count": null,
   "id": "1a1745a9-4419-4084-89eb-3961e9ad76f9",
   "metadata": {},
   "outputs": [],
   "source": []
  },
  {
   "cell_type": "code",
   "execution_count": null,
   "id": "43b49be9-ddb8-4e5d-b1c0-cfcf476a7f6c",
   "metadata": {},
   "outputs": [],
   "source": []
  },
  {
   "cell_type": "code",
   "execution_count": null,
   "id": "d66b27c4-7b5f-4ae0-881b-9ba9d65597e1",
   "metadata": {},
   "outputs": [],
   "source": []
  },
  {
   "cell_type": "code",
   "execution_count": null,
   "id": "3bf600d0-b0bb-4179-82b2-acd5064c96b8",
   "metadata": {},
   "outputs": [],
   "source": []
  },
  {
   "cell_type": "code",
   "execution_count": null,
   "id": "a83c5a38-58f1-4ec6-ad7f-b50494caef9d",
   "metadata": {},
   "outputs": [],
   "source": []
  }
 ],
 "metadata": {
  "kernelspec": {
   "display_name": "Python 3 (ipykernel)",
   "language": "python",
   "name": "python3"
  },
  "language_info": {
   "codemirror_mode": {
    "name": "ipython",
    "version": 3
   },
   "file_extension": ".py",
   "mimetype": "text/x-python",
   "name": "python",
   "nbconvert_exporter": "python",
   "pygments_lexer": "ipython3",
   "version": "3.8.12"
  }
 },
 "nbformat": 4,
 "nbformat_minor": 5
}
